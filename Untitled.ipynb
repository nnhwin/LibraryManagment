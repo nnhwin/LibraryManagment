{
 "cells": [
  {
   "cell_type": "code",
   "execution_count": 1,
   "metadata": {},
   "outputs": [],
   "source": [
    "from PyQt5.QtCore import *\n",
    "from PyQt5.QtGui import *\n",
    "from PyQt5.QtWidgets import *\n",
    "import sys\n",
    "from PyQt5 import QtWidgets,uic\n",
    "\n",
    "class Login_Form_Class(QDialog):\n",
    "    def __init__(self):\n",
    "        super(Login_Form_Class,self).__init__()\n",
    "        uic.loadUi('loginform_teach.ui',self)\n",
    "\n",
    "\n",
    "if __name__==\"__main__\":\n",
    "    app=QApplication(sys.argv)\n",
    "    login=Login_Form_Class()\n",
    "    login.show()\n",
    "    app.exec_()"
   ]
  }
 ],
 "metadata": {
  "kernelspec": {
   "display_name": "TeachingKernel",
   "language": "python",
   "name": "teaching"
  },
  "language_info": {
   "codemirror_mode": {
    "name": "ipython",
    "version": 3
   },
   "file_extension": ".py",
   "mimetype": "text/x-python",
   "name": "python",
   "nbconvert_exporter": "python",
   "pygments_lexer": "ipython3",
   "version": "3.8.5"
  }
 },
 "nbformat": 4,
 "nbformat_minor": 4
}
